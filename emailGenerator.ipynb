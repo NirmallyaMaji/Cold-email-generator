{
 "cells": [
  {
   "cell_type": "code",
   "execution_count": 1,
   "id": "c16ff50e",
   "metadata": {},
   "outputs": [
    {
     "name": "stdout",
     "output_type": "stream",
     "text": [
      "The first person to land on the moon was Neil Armstrong. He stepped onto the lunar surface on July 20, 1969, as part of the Apollo 11 mission.\n"
     ]
    }
   ],
   "source": [
    "from langchain_groq import ChatGroq\n",
    "\n",
    "llm = ChatGroq(\n",
    "    temperature=0, \n",
    "    groq_api_key='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', \n",
    "    model_name=\"llama-3.1-70b-versatile\"\n",
    ")\n",
    "\n",
    "response = llm.invoke(\"The first person to land on moon was ...\")\n",
    "print(response.content)"
   ]
  },
  {
   "cell_type": "code",
   "execution_count": 2,
   "id": "90d33612",
   "metadata": {},
   "outputs": [
    {
     "name": "stderr",
     "output_type": "stream",
     "text": [
      "USER_AGENT environment variable not set, consider setting it to identify your requests.\n"
     ]
    },
    {
     "name": "stdout",
     "output_type": "stream",
     "text": [
      "Mediaocean - Software Engineer - Engineering Support (L2)Software Engineer - Engineering Support (L2)PuneAd Infrastructure – Global Platform Engineering /Full-time /HybridApply for this jobMediaocean is powering the future of the advertising ecosystem with technology that empowers brands and agencies to deliver impactful omnichannel marketing experiences. With over $200 billion in annualized ad spend running through its software products, Mediaocean deploys AI and automation to optimize investments and outcomes. The company's advertising infrastructure and ad tech tools are used by more than 100,000 people across the globe. Mediaocean owns and operates Prisma, the industry's trusted system of record for media management and finance, Flashtalking, the world's largest independent ad server and creative personalization platform, as well as Protected Media, the MRC-accredited ad verification solution for brand safety and fraud detection. Visit www.mediaocean.com for more information. What You Will Do:Working to troubleshoot and determine root cause for technical escalations on an enterprise web application.Troubleshooting issues by going through the log files with a thorough attention to detail.Provide assistance on medium to high level complexity support inquiries.Responding quickly and intelligently to production issues and facilitating communication between L1 and Development teams spread across Australia & US.When the case is unable to be solved within the specified guidelines, pass the case on to the development team for further investigation.Contribute to the knowledge base and actively use the existing documents in the resolution of support cases.Properly log documentation regarding support inquiries into the CRM system.Provide assistance to other team members.Proactively keep management informed of critical customer issues/concerns.Working late hours in the evenings, as needed.Who You Are:Hands-on experience in writing basic to medium complex SQL queries for Oracle/MSSQL database.Basic understanding of Unix Shell scripting.Experience in debugging java/.net web application and decipher log files to identify root cause.Relevant work experience supporting an enterprise application.Above 60%, Engineering or graduation in IT/Comp Sc.Understands SOP to address customer reported issues.Very strong communication skill both in written and spoken.Why Mediaocean:Mediclaim Policy (Total Coverage: 7 Lakhs/year). Term Life and Accidental InsuranceInclusive workplace environment. Professional development opportunities within our Learning & Development programsHealth Benefits – Health Check-ups, Fitness Activities.Belong@Mediaocean affinity-based groups of colleagues to create community.All of these benefits/perks are effective on the date of hire.We would hate to miss out on your application because you do not meet every requirement – transferrable skills and education will also be considered, so please do not hesitate to apply!  Mediaocean recognizes our true strength and value shine when all our team members feel there is space in the conversation for their voices, thoughts, ideas, perspectives, and concerns. Mediaocean is committed to being an equal opportunity employer, and we consider all applicants regardless of their age, race, color, gender, sexual orientation, ethnicity, religion, national origin, disability, or veteran status. If you're an existing Mediaocean employee and would like to submit a referral, click here.Apply for this jobMediaocean Home PageJobs powered by \n"
     ]
    }
   ],
   "source": [
    "from langchain_community.document_loaders import WebBaseLoader\n",
    "\n",
    "loader = WebBaseLoader(\"https://jobs.lever.co/mediaocean/2ae6442d-c1bc-4dec-ad90-6bc3c28354c9/\")\n",
    "page_data = loader.load().pop().page_content\n",
    "print(page_data)"
   ]
  },
  {
   "cell_type": "code",
   "execution_count": 4,
   "id": "85c89a57",
   "metadata": {},
   "outputs": [
    {
     "data": {
      "text/plain": [
       "AIMessage(content='```\\n{\\n  \"role\": \"Software Engineer - Engineering Support (L2)\",\\n  \"experience\": \"Relevant work experience supporting an enterprise application\",\\n  \"skills\": [\\n    \"Hands-on experience in writing basic to medium complex SQL queries for Oracle/MSSQL database\",\\n    \"Basic understanding of Unix Shell scripting\",\\n    \"Experience in debugging java/.net web application and decipher log files to identify root cause\",\\n    \"Above 60%, Engineering or graduation in IT/Comp Sc\",\\n    \"Very strong communication skill both in written and spoken\"\\n  ],\\n  \"description\": \"Working to troubleshoot and determine root cause for technical escalations on an enterprise web application. Troubleshooting issues by going through the log files with a thorough attention to detail. Provide assistance on medium to high level complexity support inquiries. Responding quickly and intelligently to production issues and facilitating communication between L1 and Development teams spread across Australia & US.\"\\n}\\n```', response_metadata={'token_usage': {'completion_tokens': 191, 'prompt_tokens': 790, 'total_tokens': 981, 'completion_time': 0.764, 'prompt_time': 0.209496552, 'queue_time': 0.005448460999999988, 'total_time': 0.973496552}, 'model_name': 'llama-3.1-70b-versatile', 'system_fingerprint': 'fp_9260b4bb2e', 'finish_reason': 'stop', 'logprobs': None}, id='run-e1fbd230-c86b-41c7-9a09-ade1fedca81b-0', usage_metadata={'input_tokens': 790, 'output_tokens': 191, 'total_tokens': 981})"
      ]
     },
     "execution_count": 4,
     "metadata": {},
     "output_type": "execute_result"
    }
   ],
   "source": [
    "from langchain_core.prompts import PromptTemplate\n",
    "\n",
    "prompt_extract = PromptTemplate.from_template(\n",
    "        \"\"\"\n",
    "        ### SCRAPED TEXT FROM WEBSITE:\n",
    "        {page_data}\n",
    "        ### INSTRUCTION:\n",
    "        The scraped text is from the career's page of a website.\n",
    "        Your job is to extract the job postings and return them in JSON format containing the \n",
    "        following keys: `role`, `experience`, `skills` and `description`.\n",
    "        Only return the valid JSON.\n",
    "        ### VALID JSON (NO PREAMBLE):    \n",
    "        \"\"\"\n",
    ")\n",
    "\n",
    "chain_extract = prompt_extract | llm \n",
    "res = chain_extract.invoke(input={'page_data':page_data})\n",
    "res\n"
   ]
  },
  {
   "cell_type": "code",
   "execution_count": 5,
   "id": "f6731063",
   "metadata": {},
   "outputs": [
    {
     "data": {
      "text/plain": [
       "str"
      ]
     },
     "execution_count": 5,
     "metadata": {},
     "output_type": "execute_result"
    }
   ],
   "source": [
    "type(res.content)"
   ]
  },
  {
   "cell_type": "code",
   "execution_count": 6,
   "id": "5415fd54",
   "metadata": {},
   "outputs": [
    {
     "data": {
      "text/plain": [
       "{'role': 'Software Engineer - Engineering Support (L2)',\n",
       " 'experience': 'Relevant work experience supporting an enterprise application',\n",
       " 'skills': ['Hands-on experience in writing basic to medium complex SQL queries for Oracle/MSSQL database',\n",
       "  'Basic understanding of Unix Shell scripting',\n",
       "  'Experience in debugging java/.net web application and decipher log files to identify root cause',\n",
       "  'Above 60%, Engineering or graduation in IT/Comp Sc',\n",
       "  'Very strong communication skill both in written and spoken'],\n",
       " 'description': 'Working to troubleshoot and determine root cause for technical escalations on an enterprise web application. Troubleshooting issues by going through the log files with a thorough attention to detail. Provide assistance on medium to high level complexity support inquiries. Responding quickly and intelligently to production issues and facilitating communication between L1 and Development teams spread across Australia & US.'}"
      ]
     },
     "execution_count": 6,
     "metadata": {},
     "output_type": "execute_result"
    }
   ],
   "source": [
    "from langchain_core.output_parsers import JsonOutputParser\n",
    "\n",
    "json_parser = JsonOutputParser()\n",
    "json_res = json_parser.parse(res.content)\n",
    "json_res"
   ]
  },
  {
   "cell_type": "code",
   "execution_count": 7,
   "id": "39961ed6",
   "metadata": {},
   "outputs": [
    {
     "data": {
      "text/plain": [
       "dict"
      ]
     },
     "execution_count": 7,
     "metadata": {},
     "output_type": "execute_result"
    }
   ],
   "source": [
    "type(json_res)"
   ]
  },
  {
   "cell_type": "code",
   "execution_count": 8,
   "id": "1e8a0f74",
   "metadata": {},
   "outputs": [
    {
     "data": {
      "text/html": [
       "<div>\n",
       "<style scoped>\n",
       "    .dataframe tbody tr th:only-of-type {\n",
       "        vertical-align: middle;\n",
       "    }\n",
       "\n",
       "    .dataframe tbody tr th {\n",
       "        vertical-align: top;\n",
       "    }\n",
       "\n",
       "    .dataframe thead th {\n",
       "        text-align: right;\n",
       "    }\n",
       "</style>\n",
       "<table border=\"1\" class=\"dataframe\">\n",
       "  <thead>\n",
       "    <tr style=\"text-align: right;\">\n",
       "      <th></th>\n",
       "      <th>Techstack</th>\n",
       "      <th>Links</th>\n",
       "    </tr>\n",
       "  </thead>\n",
       "  <tbody>\n",
       "    <tr>\n",
       "      <th>0</th>\n",
       "      <td>React, Node.js, MongoDB</td>\n",
       "      <td>https://example.com/react-portfolio</td>\n",
       "    </tr>\n",
       "    <tr>\n",
       "      <th>1</th>\n",
       "      <td>Angular,.NET, SQL Server</td>\n",
       "      <td>https://example.com/angular-portfolio</td>\n",
       "    </tr>\n",
       "    <tr>\n",
       "      <th>2</th>\n",
       "      <td>Vue.js, Ruby on Rails, PostgreSQL</td>\n",
       "      <td>https://example.com/vue-portfolio</td>\n",
       "    </tr>\n",
       "    <tr>\n",
       "      <th>3</th>\n",
       "      <td>Python, Django, MySQL</td>\n",
       "      <td>https://example.com/python-portfolio</td>\n",
       "    </tr>\n",
       "    <tr>\n",
       "      <th>4</th>\n",
       "      <td>Java, Spring Boot, Oracle</td>\n",
       "      <td>https://example.com/java-portfolio</td>\n",
       "    </tr>\n",
       "    <tr>\n",
       "      <th>5</th>\n",
       "      <td>Flutter, Firebase, GraphQL</td>\n",
       "      <td>https://example.com/flutter-portfolio</td>\n",
       "    </tr>\n",
       "    <tr>\n",
       "      <th>6</th>\n",
       "      <td>WordPress, PHP, MySQL</td>\n",
       "      <td>https://example.com/wordpress-portfolio</td>\n",
       "    </tr>\n",
       "    <tr>\n",
       "      <th>7</th>\n",
       "      <td>Magento, PHP, MySQL</td>\n",
       "      <td>https://example.com/magento-portfolio</td>\n",
       "    </tr>\n",
       "    <tr>\n",
       "      <th>8</th>\n",
       "      <td>React Native, Node.js, MongoDB</td>\n",
       "      <td>https://example.com/react-native-portfolio</td>\n",
       "    </tr>\n",
       "    <tr>\n",
       "      <th>9</th>\n",
       "      <td>iOS, Swift, Core Data</td>\n",
       "      <td>https://example.com/ios-portfolio</td>\n",
       "    </tr>\n",
       "    <tr>\n",
       "      <th>10</th>\n",
       "      <td>Android, Java, Room Persistence</td>\n",
       "      <td>https://example.com/android-portfolio</td>\n",
       "    </tr>\n",
       "    <tr>\n",
       "      <th>11</th>\n",
       "      <td>Kotlin, Android, Firebase</td>\n",
       "      <td>https://example.com/kotlin-android-portfolio</td>\n",
       "    </tr>\n",
       "    <tr>\n",
       "      <th>12</th>\n",
       "      <td>Android TV, Kotlin, Android NDK</td>\n",
       "      <td>https://example.com/android-tv-portfolio</td>\n",
       "    </tr>\n",
       "    <tr>\n",
       "      <th>13</th>\n",
       "      <td>iOS, Swift, ARKit</td>\n",
       "      <td>https://example.com/ios-ar-portfolio</td>\n",
       "    </tr>\n",
       "    <tr>\n",
       "      <th>14</th>\n",
       "      <td>Cross-platform, Xamarin, Azure</td>\n",
       "      <td>https://example.com/xamarin-portfolio</td>\n",
       "    </tr>\n",
       "    <tr>\n",
       "      <th>15</th>\n",
       "      <td>Backend, Kotlin, Spring Boot</td>\n",
       "      <td>https://example.com/kotlin-backend-portfolio</td>\n",
       "    </tr>\n",
       "    <tr>\n",
       "      <th>16</th>\n",
       "      <td>Frontend, TypeScript, Angular</td>\n",
       "      <td>https://example.com/typescript-frontend-portfolio</td>\n",
       "    </tr>\n",
       "    <tr>\n",
       "      <th>17</th>\n",
       "      <td>Full-stack, JavaScript, Express.js</td>\n",
       "      <td>https://example.com/full-stack-js-portfolio</td>\n",
       "    </tr>\n",
       "    <tr>\n",
       "      <th>18</th>\n",
       "      <td>Machine Learning, Python, TensorFlow</td>\n",
       "      <td>https://example.com/ml-python-portfolio</td>\n",
       "    </tr>\n",
       "    <tr>\n",
       "      <th>19</th>\n",
       "      <td>DevOps, Jenkins, Docker</td>\n",
       "      <td>https://example.com/devops-portfolio</td>\n",
       "    </tr>\n",
       "  </tbody>\n",
       "</table>\n",
       "</div>"
      ],
      "text/plain": [
       "                               Techstack  \\\n",
       "0                React, Node.js, MongoDB   \n",
       "1               Angular,.NET, SQL Server   \n",
       "2      Vue.js, Ruby on Rails, PostgreSQL   \n",
       "3                  Python, Django, MySQL   \n",
       "4              Java, Spring Boot, Oracle   \n",
       "5             Flutter, Firebase, GraphQL   \n",
       "6                  WordPress, PHP, MySQL   \n",
       "7                    Magento, PHP, MySQL   \n",
       "8         React Native, Node.js, MongoDB   \n",
       "9                  iOS, Swift, Core Data   \n",
       "10       Android, Java, Room Persistence   \n",
       "11             Kotlin, Android, Firebase   \n",
       "12       Android TV, Kotlin, Android NDK   \n",
       "13                     iOS, Swift, ARKit   \n",
       "14        Cross-platform, Xamarin, Azure   \n",
       "15          Backend, Kotlin, Spring Boot   \n",
       "16         Frontend, TypeScript, Angular   \n",
       "17    Full-stack, JavaScript, Express.js   \n",
       "18  Machine Learning, Python, TensorFlow   \n",
       "19               DevOps, Jenkins, Docker   \n",
       "\n",
       "                                                Links  \n",
       "0                 https://example.com/react-portfolio  \n",
       "1               https://example.com/angular-portfolio  \n",
       "2                   https://example.com/vue-portfolio  \n",
       "3                https://example.com/python-portfolio  \n",
       "4                  https://example.com/java-portfolio  \n",
       "5               https://example.com/flutter-portfolio  \n",
       "6             https://example.com/wordpress-portfolio  \n",
       "7               https://example.com/magento-portfolio  \n",
       "8          https://example.com/react-native-portfolio  \n",
       "9                   https://example.com/ios-portfolio  \n",
       "10              https://example.com/android-portfolio  \n",
       "11       https://example.com/kotlin-android-portfolio  \n",
       "12           https://example.com/android-tv-portfolio  \n",
       "13               https://example.com/ios-ar-portfolio  \n",
       "14              https://example.com/xamarin-portfolio  \n",
       "15       https://example.com/kotlin-backend-portfolio  \n",
       "16  https://example.com/typescript-frontend-portfolio  \n",
       "17        https://example.com/full-stack-js-portfolio  \n",
       "18            https://example.com/ml-python-portfolio  \n",
       "19               https://example.com/devops-portfolio  "
      ]
     },
     "execution_count": 8,
     "metadata": {},
     "output_type": "execute_result"
    }
   ],
   "source": [
    "import pandas as pd\n",
    "\n",
    "df = pd.read_csv(\"my_portfolio.csv\")\n",
    "df"
   ]
  },
  {
   "cell_type": "code",
   "execution_count": 9,
   "id": "f7e888d4",
   "metadata": {},
   "outputs": [],
   "source": [
    "import uuid\n",
    "import chromadb\n",
    "\n",
    "client = chromadb.PersistentClient('vectorstore')\n",
    "collection = client.get_or_create_collection(name=\"portfolio\")\n",
    "\n",
    "if not collection.count():\n",
    "    for _, row in df.iterrows():\n",
    "        collection.add(documents=row[\"Techstack\"],\n",
    "                       metadatas={\"links\": row[\"Links\"]},\n",
    "                       ids=[str(uuid.uuid4())])"
   ]
  },
  {
   "cell_type": "code",
   "execution_count": 12,
   "id": "1ccfd720",
   "metadata": {
    "scrolled": false
   },
   "outputs": [
    {
     "data": {
      "text/plain": [
       "['Hands-on experience in writing basic to medium complex SQL queries for Oracle/MSSQL database',\n",
       " 'Basic understanding of Unix Shell scripting',\n",
       " 'Experience in debugging java/.net web application and decipher log files to identify root cause',\n",
       " 'Above 60%, Engineering or graduation in IT/Comp Sc',\n",
       " 'Very strong communication skill both in written and spoken']"
      ]
     },
     "execution_count": 12,
     "metadata": {},
     "output_type": "execute_result"
    }
   ],
   "source": [
    "job = json_res\n",
    "job['skills']"
   ]
  },
  {
   "cell_type": "code",
   "execution_count": 13,
   "id": "8bd36844",
   "metadata": {},
   "outputs": [
    {
     "data": {
      "text/plain": [
       "{'role': 'Software Engineer - Engineering Support (L2)',\n",
       " 'experience': 'Relevant work experience supporting an enterprise application',\n",
       " 'skills': ['Hands-on experience in writing basic to medium complex SQL queries for Oracle/MSSQL database',\n",
       "  'Basic understanding of Unix Shell scripting',\n",
       "  'Experience in debugging java/.net web application and decipher log files to identify root cause',\n",
       "  'Above 60%, Engineering or graduation in IT/Comp Sc',\n",
       "  'Very strong communication skill both in written and spoken'],\n",
       " 'description': 'Working to troubleshoot and determine root cause for technical escalations on an enterprise web application. Troubleshooting issues by going through the log files with a thorough attention to detail. Provide assistance on medium to high level complexity support inquiries. Responding quickly and intelligently to production issues and facilitating communication between L1 and Development teams spread across Australia & US.'}"
      ]
     },
     "execution_count": 13,
     "metadata": {},
     "output_type": "execute_result"
    }
   ],
   "source": [
    "job"
   ]
  },
  {
   "cell_type": "code",
   "execution_count": 14,
   "id": "39ad2fa2",
   "metadata": {},
   "outputs": [
    {
     "data": {
      "text/plain": [
       "[[{'links': 'https://example.com/magento-portfolio'},\n",
       "  {'links': 'https://example.com/java-portfolio'}],\n",
       " [{'links': 'https://example.com/magento-portfolio'},\n",
       "  {'links': 'https://example.com/devops-portfolio'}],\n",
       " [{'links': 'https://example.com/java-portfolio'},\n",
       "  {'links': 'https://example.com/angular-portfolio'}],\n",
       " [{'links': 'https://example.com/ml-python-portfolio'},\n",
       "  {'links': 'https://example.com/devops-portfolio'}],\n",
       " [{'links': 'https://example.com/ml-python-portfolio'},\n",
       "  {'links': 'https://example.com/ios-ar-portfolio'}]]"
      ]
     },
     "execution_count": 14,
     "metadata": {},
     "output_type": "execute_result"
    }
   ],
   "source": [
    "links = collection.query(query_texts=job['skills'], n_results=2).get('metadatas', [])\n",
    "links"
   ]
  },
  {
   "cell_type": "code",
   "execution_count": 15,
   "id": "64a97dd2",
   "metadata": {},
   "outputs": [
    {
     "name": "stdout",
     "output_type": "stream",
     "text": [
      "Subject: Expert Support for Enterprise Web Application - TCS Solutions\n",
      "\n",
      "Dear Hiring Manager,\n",
      "\n",
      "I came across the job description for a Software Engineer - Engineering Support (L2) role, and I believe TCS can provide the ideal candidate to support your enterprise web application. Our team of experts has extensive experience in troubleshooting and determining root causes for technical escalations, ensuring seamless integration of business processes.\n",
      "\n",
      "At TCS, we have a proven track record of empowering numerous enterprises with tailored solutions, fostering scalability, process optimization, cost reduction, and heightened overall efficiency. Our team is well-equipped to handle medium to high-level complexity support inquiries, providing quick and intelligent responses to production issues.\n",
      "\n",
      "Our expertise in writing basic to medium complex SQL queries for Oracle/MSSQL databases, Unix Shell scripting, and debugging Java/.NET web applications aligns perfectly with your requirements. We also possess strong communication skills, ensuring effective collaboration between teams.\n",
      "\n",
      "To showcase our capabilities, I'd like to highlight some of our relevant portfolio links:\n",
      "\n",
      "- https://example.com/java-portfolio (Java expertise)\n",
      "- https://example.com/devops-portfolio (DevOps expertise)\n",
      "\n",
      "These links demonstrate our proficiency in Java development and DevOps, which are essential for supporting your enterprise web application.\n",
      "\n",
      "If you're looking for a reliable partner to provide top-notch support for your application, I'd be happy to discuss how TCS can assist you. Please feel free to contact me at your convenience.\n",
      "\n",
      "Best regards,\n",
      "\n",
      "Nirmallya\n",
      "Business Development Executive\n",
      "TCS\n"
     ]
    }
   ],
   "source": [
    "prompt_email = PromptTemplate.from_template(\n",
    "        \"\"\"\n",
    "        ### JOB DESCRIPTION:\n",
    "        {job_description}\n",
    "        \n",
    "        ### INSTRUCTION:\n",
    "        You are Nirmallya, a business development executive at TCS. TCS is an AI & Software Consulting company dedicated to facilitating\n",
    "        the seamless integration of business processes through automated tools. \n",
    "        Over our experience, we have empowered numerous enterprises with tailored solutions, fostering scalability, \n",
    "        process optimization, cost reduction, and heightened overall efficiency. \n",
    "        Your job is to write a cold email to the client regarding the job mentioned above describing the capability of TCS\n",
    "        in fulfilling their needs.\n",
    "        Also add the most relevant ones from the following links to showcase TCS's portfolio: {link_list}\n",
    "        Remember you are Nirmallya, BDE at TCS. \n",
    "        Do not provide a preamble.\n",
    "        ### EMAIL (NO PREAMBLE):\n",
    "        \n",
    "        \"\"\"\n",
    "        )\n",
    "\n",
    "chain_email = prompt_email | llm\n",
    "res = chain_email.invoke({\"job_description\": str(job), \"link_list\": links})\n",
    "print(res.content)"
   ]
  },
  {
   "cell_type": "code",
   "execution_count": null,
   "id": "a4e0b71c",
   "metadata": {},
   "outputs": [],
   "source": []
  }
 ],
 "metadata": {
  "kernelspec": {
   "display_name": "Python 3 (ipykernel)",
   "language": "python",
   "name": "python3"
  },
  "language_info": {
   "codemirror_mode": {
    "name": "ipython",
    "version": 3
   },
   "file_extension": ".py",
   "mimetype": "text/x-python",
   "name": "python",
   "nbconvert_exporter": "python",
   "pygments_lexer": "ipython3",
   "version": "3.9.5"
  }
 },
 "nbformat": 4,
 "nbformat_minor": 5
}
